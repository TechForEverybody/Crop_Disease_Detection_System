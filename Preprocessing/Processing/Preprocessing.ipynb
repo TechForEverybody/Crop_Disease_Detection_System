{
 "cells": [
  {
   "cell_type": "markdown",
   "id": "4a752ebc",
   "metadata": {},
   "source": [
    "<h1 style=\"text-align: center;font-size: 36px;color:darkblue;\">Preprocessing</h1>"
   ]
  },
  {
   "cell_type": "markdown",
   "id": "74181a1d",
   "metadata": {
    "ExecuteTime": {
     "end_time": "2023-01-25T19:57:54.764294Z",
     "start_time": "2023-01-25T19:57:54.755294Z"
    }
   },
   "source": [
    "# Imports"
   ]
  },
  {
   "cell_type": "code",
   "execution_count": 2,
   "id": "d9618349",
   "metadata": {
    "ExecuteTime": {
     "end_time": "2023-01-25T19:59:37.497160Z",
     "start_time": "2023-01-25T19:59:32.478424Z"
    }
   },
   "outputs": [],
   "source": [
    "import pandas\n",
    "import numpy\n",
    "import seaborn\n",
    "import matplotlib.pyplot as pyplot"
   ]
  },
  {
   "cell_type": "markdown",
   "id": "3f045b83",
   "metadata": {},
   "source": [
    "# Configurations"
   ]
  },
  {
   "cell_type": "code",
   "execution_count": 3,
   "id": "895c1adf",
   "metadata": {
    "ExecuteTime": {
     "end_time": "2023-01-25T20:05:24.182655Z",
     "start_time": "2023-01-25T20:05:23.865575Z"
    }
   },
   "outputs": [],
   "source": [
    "# %matplotlib qt;\n",
    "%matplotlib inline\n",
    "pyplot.rcParams[\"figure.figsize\"] = (5, 3)"
   ]
  },
  {
   "cell_type": "markdown",
   "id": "38caa282",
   "metadata": {},
   "source": [
    "# Data Saving"
   ]
  },
  {
   "cell_type": "code",
   "execution_count": null,
   "id": "098a0b44",
   "metadata": {},
   "outputs": [],
   "source": []
  }
 ],
 "metadata": {
  "kernelspec": {
   "display_name": "Python 3 (ipykernel)",
   "language": "python",
   "name": "python3"
  },
  "language_info": {
   "codemirror_mode": {
    "name": "ipython",
    "version": 3
   },
   "file_extension": ".py",
   "mimetype": "text/x-python",
   "name": "python",
   "nbconvert_exporter": "python",
   "pygments_lexer": "ipython3",
   "version": "3.10.8"
  }
 },
 "nbformat": 4,
 "nbformat_minor": 5
}
